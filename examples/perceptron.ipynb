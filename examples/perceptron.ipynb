{
 "cells": [
  {
   "cell_type": "markdown",
   "metadata": {},
   "source": [
    "# Perceptron training\n",
    "\n",
    "In this example, we will train the perceptron model from scratch using just numpy arrays."
   ]
  },
  {
   "cell_type": "code",
   "execution_count": 1,
   "metadata": {},
   "outputs": [],
   "source": [
    "# Import Required Libraries\n",
    "import numpy as np"
   ]
  },
  {
   "cell_type": "markdown",
   "metadata": {},
   "source": [
    "## Initialize Parameters\n",
    "Initialize the weight vector with random values (or, as we did in the slides, zeors, although not advisable) and set the learning rate."
   ]
  },
  {
   "cell_type": "code",
   "execution_count": null,
   "metadata": {},
   "outputs": [],
   "source": [
    "# Initialize Parameters\n",
    "\n",
    "# Set the random seed for reproducibility\n",
    "np.random.seed(33)\n",
    "\n",
    "# Initialize the weight vector with random values\n",
    "# We have 4 components in the input vector (including the bias), so we need 4 weights\n",
    "weights = np.random.randn(4)\n",
    "\n",
    "# Set the learning rate\n",
    "learning_rate = 0.01\n",
    "\n",
    "# Display the initialized weights and learning rate\n",
    "weights, learning_rate"
   ]
  },
  {
   "cell_type": "markdown",
   "metadata": {},
   "source": [
    "## Define Activation Function\n",
    "Define the sign activation function that will be used to make predictions."
   ]
  },
  {
   "cell_type": "code",
   "execution_count": null,
   "metadata": {},
   "outputs": [],
   "source": [
    "# Define Activation Function\n",
    "\n",
    "def activation_function(x):\n",
    "    \"\"\"\n",
    "    Sign activation function.\n",
    "    Returns 1 if x is non-negative, -1 otherwise.\n",
    "    \"\"\"\n",
    "    # Note that np.sign(x) returns 0 if x is 0. We want to return 1 in this case.\n",
    "    return 1 if x >= 0 else -1\n",
    "\n",
    "# Example usage of the activation function\n",
    "example_input = np.array([1, -2, 0.5, 1])\n",
    "example_output = activation_function(np.dot(weights, example_input))\n",
    "example_output"
   ]
  },
  {
   "cell_type": "markdown",
   "metadata": {},
   "source": [
    "You can also quickly execute dot-products as `w @ x` instead of calling the `np.dot` function."
   ]
  },
  {
   "cell_type": "code",
   "execution_count": null,
   "metadata": {},
   "outputs": [],
   "source": [
    "print(np.dot(weights, example_input), weights @ example_input, activation_function(weights @ example_input))"
   ]
  },
  {
   "cell_type": "markdown",
   "metadata": {},
   "source": [
    "## Define Prediction Function\n",
    "Define the prediction function that computes the dot product of the weight vector and the input vector, and applies the activation function."
   ]
  },
  {
   "cell_type": "code",
   "execution_count": null,
   "metadata": {},
   "outputs": [],
   "source": [
    "# Define Prediction Function\n",
    "\n",
    "def predict(weights, input_vector):\n",
    "    \"\"\"\n",
    "    Predict the output for a given input vector using the perceptron model.\n",
    "    \n",
    "    Parameters:\n",
    "    weights (numpy array): The weight vector.\n",
    "    input_vector (numpy array): The input vector (including the bias term).\n",
    "    \n",
    "    Returns:\n",
    "    int: The predicted output (1 or -1).\n",
    "    \"\"\"\n",
    "    # Apply the activation function to the dot product of the weights and the input vector\n",
    "    return activation_function(weights @ input_vector)\n",
    "\n",
    "# Example usage of the prediction function\n",
    "example_prediction = predict(weights, example_input)\n",
    "example_prediction"
   ]
  },
  {
   "cell_type": "markdown",
   "metadata": {},
   "source": [
    "## Training Data\n",
    "Generate training input data and corresponding binary labels for training. These are the data from our slide."
   ]
  },
  {
   "cell_type": "code",
   "execution_count": null,
   "metadata": {},
   "outputs": [],
   "source": [
    "# Generate Sample Data\n",
    "\n",
    "# Generate sample input data (each row is an input vector including the bias term)\n",
    "data = np.array([\n",
    "    [1, 1, 0, 0],  # Input vector with bias term prepended\n",
    "    [1, 1, 0, 1],\n",
    "    [1, 1, 1, 0],\n",
    "    [1, 1, 1, 1],\n",
    "    [1, 0, 0, 1],\n",
    "    [1, 0, 1, 0],\n",
    "    [1, 0, 1, 1],\n",
    "    [1, 0, 0, 0]\n",
    "])\n",
    "\n",
    "# Corresponding binary labels\n",
    "labels = np.array([-1, 1, 1, 1, -1, -1, 1, -1])\n",
    "\n",
    "# Display the sample data and labels\n",
    "data, labels"
   ]
  },
  {
   "cell_type": "markdown",
   "metadata": {},
   "source": [
    "## Define Perceptron Training Function\n",
    "Define the training function that updates the weights based on the prediction error using the perceptron learning rule."
   ]
  },
  {
   "cell_type": "code",
   "execution_count": 11,
   "metadata": {},
   "outputs": [],
   "source": [
    "# Define Perceptron Training Function\n",
    "\n",
    "def train_perceptron(weights, training_data, labels, learning_rate, epochs):\n",
    "    \"\"\"\n",
    "    Train the perceptron model using the perceptron learning rule.\n",
    "    \n",
    "    Parameters:\n",
    "    weights (numpy array): The initial weight vector.\n",
    "    training_data (numpy array): The training data (each row is an input vector including the bias term).\n",
    "    labels (numpy array): The true labels for the training data.\n",
    "    learning_rate (float): The learning rate for weight updates.\n",
    "    epochs (int): The number of epochs to train the model.\n",
    "    \n",
    "    Returns:\n",
    "    numpy array: The updated weight vector after training.\n",
    "    \"\"\"\n",
    "    last_weights = weights.copy()\n",
    "    for epoch in range(epochs):\n",
    "        loss = 0\n",
    "        for input_vector, label in zip(training_data, labels):\n",
    "            # Make a prediction\n",
    "            prediction = predict(weights, input_vector)\n",
    "            \n",
    "            # Calculate the error\n",
    "            error = label - prediction\n",
    "            loss += error**2\n",
    "            \n",
    "            # Update the weights\n",
    "            weights += learning_rate * error * input_vector\n",
    "            # print(\"   \", input_vector, label, error, weights)\n",
    "\n",
    "        # Print current weights and total error\n",
    "        print(epoch + 1, weights, loss)\n",
    "\n",
    "        # stop training if the total error is 0 or weights have not changed much\n",
    "        if loss == 0 or np.allclose(weights, last_weights):\n",
    "            break\n",
    "        last_weights = weights.copy()\n",
    "\n",
    "    return weights\n"
   ]
  },
  {
   "cell_type": "markdown",
   "metadata": {},
   "source": [
    "## Train the Perceptron Model\n",
    "Train the perceptron model using the training function and sample data."
   ]
  },
  {
   "cell_type": "code",
   "execution_count": null,
   "metadata": {},
   "outputs": [],
   "source": [
    "# Train the Perceptron Model\n",
    "\n",
    "# In our example, we will set weights to be all zeros, to match the example in the slides.\n",
    "weights = np.zeros(4)\n",
    "\n",
    "# Train the perceptron model using the sample data\n",
    "trained_weights = train_perceptron(weights, data, labels, 0.1, epochs=10)\n",
    "\n",
    "# Display the trained weights after training with sample data\n",
    "trained_weights"
   ]
  },
  {
   "cell_type": "markdown",
   "metadata": {},
   "source": [
    "## Evaluate the Model\n",
    "Evaluate the trained model on the training data and print the accuracy."
   ]
  },
  {
   "cell_type": "code",
   "execution_count": null,
   "metadata": {},
   "outputs": [],
   "source": [
    "# Evaluate the Model\n",
    "\n",
    "def evaluate_model(weights, data, labels):\n",
    "    \"\"\"\n",
    "    Evaluate the perceptron model on the given data and print the accuracy.\n",
    "    \n",
    "    Parameters:\n",
    "    weights (numpy array): The weight vector.\n",
    "    data (numpy array): The input data (each row is an input vector including the bias term).\n",
    "    labels (numpy array): The true labels for the input data.\n",
    "    \n",
    "    Returns:\n",
    "    float: The accuracy of the model on the given data.\n",
    "    \"\"\"\n",
    "    # Make predictions for all input vectors\n",
    "    predictions = np.array([predict(weights, x) for x in data])\n",
    "    \n",
    "    # Calculate the number of correct predictions\n",
    "    correct_predictions = np.sum(predictions == labels)\n",
    "    \n",
    "    # Calculate the accuracy\n",
    "    accuracy = correct_predictions / len(labels)\n",
    "    \n",
    "    return accuracy\n",
    "\n",
    "# Evaluate the trained model on the sample data\n",
    "accuracy = evaluate_model(trained_weights, data, labels)\n",
    "\n",
    "# Print the accuracy\n",
    "accuracy"
   ]
  }
 ],
 "metadata": {
  "kernelspec": {
   "display_name": "342wi25",
   "language": "python",
   "name": "python3"
  },
  "language_info": {
   "codemirror_mode": {
    "name": "ipython",
    "version": 3
   },
   "file_extension": ".py",
   "mimetype": "text/x-python",
   "name": "python",
   "nbconvert_exporter": "python",
   "pygments_lexer": "ipython3",
   "version": "3.12.8"
  }
 },
 "nbformat": 4,
 "nbformat_minor": 2
}
